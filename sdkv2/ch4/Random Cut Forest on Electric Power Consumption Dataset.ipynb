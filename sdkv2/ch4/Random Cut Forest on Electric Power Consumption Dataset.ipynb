{
 "cells": [
  {
   "cell_type": "code",
   "execution_count": null,
   "metadata": {},
   "outputs": [],
   "source": [
    "import pandas as pd\n",
    "\n",
    "df = pd.read_csv('item-demand-time.csv', dtype = object, names=['timestamp','value','item'])\n",
    "df.head(3)"
   ]
  },
  {
   "cell_type": "code",
   "execution_count": null,
   "metadata": {},
   "outputs": [],
   "source": [
    "df.item.unique()"
   ]
  },
  {
   "cell_type": "code",
   "execution_count": null,
   "metadata": {},
   "outputs": [],
   "source": [
    "%matplotlib inline\n",
    "\n",
    "import matplotlib\n",
    "import matplotlib.pyplot as plt\n",
    "\n",
    "df.value=pd.to_numeric(df.value)\n",
    "df_plot = df.pivot(index='timestamp', columns='item', values='value')\n",
    "df_plot.plot(figsize=(40,10))"
   ]
  },
  {
   "cell_type": "code",
   "execution_count": null,
   "metadata": {},
   "outputs": [],
   "source": [
    "df = df[df['item']=='client_12']\n",
    "df = df.drop(['item', 'timestamp'], axis=1)"
   ]
  },
  {
   "cell_type": "code",
   "execution_count": null,
   "metadata": {},
   "outputs": [],
   "source": [
    "df.value = df.value.astype('float32')\n",
    "df.value*=100\n",
    "df.value = df.value.astype('int32')\n",
    "df.head(3)"
   ]
  },
  {
   "cell_type": "code",
   "execution_count": null,
   "metadata": {},
   "outputs": [],
   "source": [
    "df.plot(figsize=(40,10))"
   ]
  },
  {
   "cell_type": "code",
   "execution_count": null,
   "metadata": {},
   "outputs": [],
   "source": [
    "df.to_csv('electricity.csv', index=False, header=False)"
   ]
  },
  {
   "cell_type": "code",
   "execution_count": null,
   "metadata": {},
   "outputs": [],
   "source": [
    "import boto3\n",
    "import sagemaker\n",
    "\n",
    "print(sagemaker.__version__)\n",
    "\n",
    "sess = sagemaker.Session()\n",
    "role = sagemaker.get_execution_role()\n",
    "bucket = sess.default_bucket()\n",
    "prefix = 'electricity'\n",
    "\n",
    "training_data_path = sess.upload_data(path='electricity.csv', key_prefix=prefix + '/input/training')\n",
    "training_data_channel = sagemaker.TrainingInput(s3_data=training_data_path, \n",
    "                                           content_type='text/csv;label_size=0',\n",
    "                                           distribution='ShardedByS3Key')\n",
    "rcf_data = {'train': training_data_channel}"
   ]
  },
  {
   "cell_type": "code",
   "execution_count": null,
   "metadata": {},
   "outputs": [],
   "source": [
    "print(training_data_path)"
   ]
  },
  {
   "cell_type": "code",
   "execution_count": null,
   "metadata": {},
   "outputs": [],
   "source": [
    "import boto3\n",
    "from sagemaker.estimator import Estimator\n",
    "from sagemaker import image_uris\n",
    "\n",
    "region = boto3.Session().region_name    \n",
    "container = image_uris.retrieve('randomcutforest', region)\n",
    "\n",
    "rcf_estimator = Estimator(container,\n",
    "                role=role,\n",
    "                instance_count=1,\n",
    "                instance_type='ml.m5.large',\n",
    "                output_path='s3://{}/{}/output'.format(bucket, prefix))\n",
    "\n",
    "rcf_estimator.set_hyperparameters(feature_dim=1)"
   ]
  },
  {
   "cell_type": "code",
   "execution_count": null,
   "metadata": {},
   "outputs": [],
   "source": [
    "rcf_estimator.fit(rcf_data)"
   ]
  },
  {
   "cell_type": "code",
   "execution_count": null,
   "metadata": {},
   "outputs": [],
   "source": [
    "from time import strftime, gmtime\n",
    "timestamp = strftime('%d-%H-%M-%S', gmtime())\n",
    "\n",
    "endpoint_name = 'rcf-demo'+'-'+timestamp\n",
    "\n",
    "rcf_predictor = rcf_estimator.deploy(endpoint_name=endpoint_name, \n",
    "                        initial_instance_count=1, \n",
    "                        instance_type='ml.t2.medium')"
   ]
  },
  {
   "cell_type": "code",
   "execution_count": null,
   "metadata": {},
   "outputs": [],
   "source": [
    "rcf_predictor.ContentType = 'text/csv'\n",
    "rcf_predictor.serializer = sagemaker.serializers.CSVSerializer()\n",
    "rcf_predictor.deserializer = sagemaker.deserializers.JSONDeserializer()\n",
    "\n",
    "values = df['value'].astype('str').tolist()\n",
    "response = rcf_predictor.predict(values)"
   ]
  },
  {
   "cell_type": "code",
   "execution_count": null,
   "metadata": {},
   "outputs": [],
   "source": [
    "from statistics import mean,stdev\n",
    "\n",
    "scores = []\n",
    "for s in response['scores']:\n",
    "    scores.append(s['score'])\n",
    "    \n",
    "score_mean = mean(scores)\n",
    "score_std = stdev(scores)"
   ]
  },
  {
   "cell_type": "code",
   "execution_count": null,
   "metadata": {},
   "outputs": [],
   "source": [
    "df[2000:2500].plot(figsize=(40,10))"
   ]
  },
  {
   "cell_type": "code",
   "execution_count": null,
   "metadata": {},
   "outputs": [],
   "source": [
    "plt.figure(figsize=(40,10))\n",
    "plt.plot(scores[2000:2500])\n",
    "plt.autoscale(tight=True)\n",
    "plt.axhline(y=score_mean+3*score_std, color='red')\n",
    "plt.show()"
   ]
  },
  {
   "cell_type": "code",
   "execution_count": null,
   "metadata": {},
   "outputs": [],
   "source": [
    "rcf_predictor.delete_endpoint()"
   ]
  },
  {
   "cell_type": "code",
   "execution_count": null,
   "metadata": {},
   "outputs": [],
   "source": []
  }
 ],
 "metadata": {
  "kernelspec": {
   "display_name": "conda_python3",
   "language": "python",
   "name": "conda_python3"
  },
  "language_info": {
   "codemirror_mode": {
    "name": "ipython",
    "version": 3
   },
   "file_extension": ".py",
   "mimetype": "text/x-python",
   "name": "python",
   "nbconvert_exporter": "python",
   "pygments_lexer": "ipython3",
   "version": "3.6.5"
  }
 },
 "nbformat": 4,
 "nbformat_minor": 4
}
